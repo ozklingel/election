{
 "cells": [
  {
   "cell_type": "code",
   "execution_count": 1,
   "metadata": {},
   "outputs": [],
   "source": [
    "\n",
    "import numpy as np \n",
    "import pandas as pd \n",
    "\n",
    "import h5py as h5\n",
    "\n",
    "from keras.models import Sequential\n",
    "from keras.layers import Conv2D, Dense, Flatten, Dropout, MaxPool2D\n",
    "from keras.optimizers import Adam, RMSprop\n",
    "from keras.initializers import RandomNormal\n",
    "import matplotlib.pyplot as plt\n",
    "import os\n",
    "train=h5.File('C:/Users/97254/Downloads/train_happy.h5', \"r\")\n",
    "test=h5.File('C:/Users/97254/Downloads/test_happy.h5', \"r\")\n"
   ]
  },
  {
   "cell_type": "code",
   "execution_count": 2,
   "metadata": {},
   "outputs": [
    {
     "name": "stdout",
     "output_type": "stream",
     "text": [
      "(600, 64, 64, 3)\n",
      "(600,)\n",
      "(150, 64, 64, 3)\n",
      "(150,)\n"
     ]
    }
   ],
   "source": [
    "train_x = np.array(train['train_set_x'][:])\n",
    "train_y = np.array(train['train_set_y'][:])\n",
    "\n",
    "test_x = np.array(test['test_set_x'][:])\n",
    "test_y = np.array(test['test_set_y'][:])\n",
    "print(train_x.shape)\n",
    "print(train_y.shape)\n",
    "print(test_x.shape)\n",
    "print(test_y.shape)"
   ]
  },
  {
   "cell_type": "code",
   "execution_count": null,
   "metadata": {},
   "outputs": [],
   "source": []
  },
  {
   "cell_type": "code",
   "execution_count": 3,
   "metadata": {},
   "outputs": [
    {
     "name": "stdout",
     "output_type": "stream",
     "text": [
      "(1, 600)\n",
      "(1, 150)\n"
     ]
    }
   ],
   "source": [
    "train_y = train_y.reshape((1, train_y.shape[0]))\n",
    "test_y = test_y.reshape((1, test_y.shape[0]))\n",
    "\n",
    "print(train_y.shape)\n",
    "print(test_y.shape)"
   ]
  },
  {
   "cell_type": "code",
   "execution_count": null,
   "metadata": {},
   "outputs": [],
   "source": []
  },
  {
   "cell_type": "code",
   "execution_count": 4,
   "metadata": {},
   "outputs": [
    {
     "name": "stdout",
     "output_type": "stream",
     "text": [
      "(600, 1)\n",
      "(150, 1)\n"
     ]
    }
   ],
   "source": [
    "X_train = train_x / 255.0\n",
    "X_test = test_x / 255.0\n",
    "\n",
    "y_train = train_y.T\n",
    "y_test = test_y.T\n",
    "print(y_train.shape)\n",
    "print(y_test.shape)"
   ]
  },
  {
   "cell_type": "code",
   "execution_count": null,
   "metadata": {},
   "outputs": [],
   "source": [
    "An important benefit of the rectifier function is that it is capable of outputting a true zero value.\n",
    "\n",
    "This is unlike the tanh and sigmoid activation functions that learn to approximate a zero output, e.g. a value very close to zero, but not a true zero value.\n",
    "\n",
    "This means that negative inputs can output true zero values allowing the activation of hidden layers in neural networks to contain one or more true zero values. This is called a sparse representation and is a desirable property in representational learning as it can accelerate learning and simplify the model."
   ]
  },
  {
   "cell_type": "code",
   "execution_count": null,
   "metadata": {},
   "outputs": [],
   "source": [
    "The rectifier function is trivial to implement, requiring a max() function.\n",
    "\n"
   ]
  },
  {
   "cell_type": "code",
   "execution_count": 5,
   "metadata": {},
   "outputs": [
    {
     "name": "stdout",
     "output_type": "stream",
     "text": [
      "Number of weights after calling the model: 4\n"
     ]
    }
   ],
   "source": [
    "import tensorflow as tf\n",
    "from tensorflow import keras\n",
    "from tensorflow.keras import layers\n",
    "model = keras.Sequential(\n",
    "    [\n",
    "        keras.Input(shape=(64, 64, 3)),\n",
    "\n",
    "        layers.Flatten(),\n",
    "\n",
    "        layers.Dense(128, activation='relu'),\n",
    "        layers.Dense(1, activation='sigmoid')\n",
    "    ]\n",
    ")\n",
    "print(\"Number of weights after calling the model:\", len(model.weights))"
   ]
  },
  {
   "cell_type": "code",
   "execution_count": 40,
   "metadata": {},
   "outputs": [
    {
     "name": "stdout",
     "output_type": "stream",
     "text": [
      "9\n"
     ]
    }
   ],
   "source": [
    "print(len(model.layers)) "
   ]
  },
  {
   "cell_type": "code",
   "execution_count": 6,
   "metadata": {},
   "outputs": [
    {
     "name": "stdout",
     "output_type": "stream",
     "text": [
      "Model: \"sequential\"\n",
      "_________________________________________________________________\n",
      "Layer (type)                 Output Shape              Param #   \n",
      "=================================================================\n",
      "flatten (Flatten)            (None, 12288)             0         \n",
      "_________________________________________________________________\n",
      "dense (Dense)                (None, 128)               1572992   \n",
      "_________________________________________________________________\n",
      "dense_1 (Dense)              (None, 1)                 129       \n",
      "=================================================================\n",
      "Total params: 1,573,121\n",
      "Trainable params: 1,573,121\n",
      "Non-trainable params: 0\n",
      "_________________________________________________________________\n"
     ]
    }
   ],
   "source": [
    "model.summary()"
   ]
  },
  {
   "cell_type": "code",
   "execution_count": 7,
   "metadata": {},
   "outputs": [],
   "source": [
    "model.compile(optimizer='rmsprop', loss='binary_crossentropy', metrics=['accuracy'])"
   ]
  },
  {
   "cell_type": "code",
   "execution_count": null,
   "metadata": {},
   "outputs": [],
   "source": []
  },
  {
   "cell_type": "code",
   "execution_count": 9,
   "metadata": {},
   "outputs": [
    {
     "name": "stdout",
     "output_type": "stream",
     "text": [
      "Epoch 1/30\n",
      "20/20 - 0s - loss: 0.8098 - accuracy: 0.6533\n",
      "Epoch 2/30\n",
      "20/20 - 0s - loss: 0.7299 - accuracy: 0.7000\n",
      "Epoch 3/30\n",
      "20/20 - 0s - loss: 0.6121 - accuracy: 0.7000\n",
      "Epoch 4/30\n",
      "20/20 - 0s - loss: 0.6685 - accuracy: 0.7050\n",
      "Epoch 5/30\n",
      "20/20 - 0s - loss: 0.5137 - accuracy: 0.7667\n",
      "Epoch 6/30\n",
      "20/20 - 0s - loss: 0.6481 - accuracy: 0.7000\n",
      "Epoch 7/30\n",
      "20/20 - 0s - loss: 0.5133 - accuracy: 0.7750\n",
      "Epoch 8/30\n",
      "20/20 - 0s - loss: 0.4984 - accuracy: 0.7617\n",
      "Epoch 9/30\n",
      "20/20 - 0s - loss: 0.5009 - accuracy: 0.7533\n",
      "Epoch 10/30\n",
      "20/20 - 0s - loss: 0.5131 - accuracy: 0.7767\n",
      "Epoch 11/30\n",
      "20/20 - 0s - loss: 0.4526 - accuracy: 0.8000\n",
      "Epoch 12/30\n",
      "20/20 - 0s - loss: 0.4304 - accuracy: 0.7950\n",
      "Epoch 13/30\n",
      "20/20 - 0s - loss: 0.4860 - accuracy: 0.7850\n",
      "Epoch 14/30\n",
      "20/20 - 0s - loss: 0.4967 - accuracy: 0.7817\n",
      "Epoch 15/30\n",
      "20/20 - 0s - loss: 0.3782 - accuracy: 0.8300\n",
      "Epoch 16/30\n",
      "20/20 - 0s - loss: 0.3642 - accuracy: 0.8533\n",
      "Epoch 17/30\n",
      "20/20 - 0s - loss: 0.4293 - accuracy: 0.8167\n",
      "Epoch 18/30\n",
      "20/20 - 0s - loss: 0.3089 - accuracy: 0.8717\n",
      "Epoch 19/30\n",
      "20/20 - 0s - loss: 0.4029 - accuracy: 0.8183\n",
      "Epoch 20/30\n",
      "20/20 - 0s - loss: 0.3857 - accuracy: 0.8400\n",
      "Epoch 21/30\n",
      "20/20 - 0s - loss: 0.3516 - accuracy: 0.8517\n",
      "Epoch 22/30\n",
      "20/20 - 0s - loss: 0.3961 - accuracy: 0.8100\n",
      "Epoch 23/30\n",
      "20/20 - 0s - loss: 0.2939 - accuracy: 0.8750\n",
      "Epoch 24/30\n",
      "20/20 - 0s - loss: 0.2526 - accuracy: 0.9050\n",
      "Epoch 25/30\n",
      "20/20 - 0s - loss: 0.3606 - accuracy: 0.8800\n",
      "Epoch 26/30\n",
      "20/20 - 0s - loss: 0.2508 - accuracy: 0.9067\n",
      "Epoch 27/30\n",
      "20/20 - 0s - loss: 0.3601 - accuracy: 0.8550\n",
      "Epoch 28/30\n",
      "20/20 - 0s - loss: 0.3041 - accuracy: 0.8750\n",
      "Epoch 29/30\n",
      "20/20 - 0s - loss: 0.3031 - accuracy: 0.8650\n",
      "Epoch 30/30\n",
      "20/20 - 0s - loss: 0.2736 - accuracy: 0.9017\n"
     ]
    }
   ],
   "source": [
    "epochs = 30\n",
    "batch_size = 30\n",
    "history = model.fit(x=X_train, y=y_train, epochs=epochs, verbose=2,batch_size=batch_size)"
   ]
  },
  {
   "cell_type": "code",
   "execution_count": 26,
   "metadata": {},
   "outputs": [
    {
     "name": "stdout",
     "output_type": "stream",
     "text": [
      "5/5 [==============================] - 0s 51ms/step - loss: 0.2031 - accuracy: 0.9200\n"
     ]
    }
   ],
   "source": [
    "test_score = model.evaluate(X_test, y_test, verbose=1)"
   ]
  },
  {
   "cell_type": "code",
   "execution_count": 27,
   "metadata": {},
   "outputs": [
    {
     "name": "stdout",
     "output_type": "stream",
     "text": [
      "test loss: 0.20313744246959686\n",
      "test accuracy: 0.9200000166893005\n"
     ]
    }
   ],
   "source": [
    "print('test loss:', test_score[0])\n",
    "print('test accuracy:', test_score[1])"
   ]
  },
  {
   "cell_type": "code",
   "execution_count": 21,
   "metadata": {},
   "outputs": [
    {
     "name": "stdout",
     "output_type": "stream",
     "text": [
      "dict_keys(['loss', 'accuracy'])\n"
     ]
    }
   ],
   "source": [
    "print(history.history.keys())"
   ]
  },
  {
   "cell_type": "code",
   "execution_count": 21,
   "metadata": {},
   "outputs": [
    {
     "data": {
      "text/plain": [
       "<matplotlib.legend.Legend at 0x15362150ac0>"
      ]
     },
     "execution_count": 21,
     "metadata": {},
     "output_type": "execute_result"
    },
    {
     "data": {
      "image/png": "[encoded data removed]",
      "text/plain": [
       "<Figure size 432x288 with 1 Axes>"
      ]
     },
     "metadata": {
      "needs_background": "light"
     },
     "output_type": "display_data"
    },
    {
     "data": {
      "image/png": "[encoded data removed]",
      "text/plain": [
       "<Figure size 432x288 with 1 Axes>"
      ]
     },
     "metadata": {
      "needs_background": "light"
     },
     "output_type": "display_data"
    }
   ],
   "source": [
    "training_accuracy = history.history['accuracy']\n",
    "training_loss = history.history['loss']\n",
    "\n",
    "E = range(len(training_accuracy))\n",
    "plt.plot(E, training_accuracy, color='red', label='Training accuracy')\n",
    "plt.title('epochs vs Training accuracy')\n",
    "plt.legend()\n",
    "\n",
    "plt.figure()\n",
    "plt.plot(E, training_loss, color='red', label='Training Loss')\n",
    "plt.title('epochs vs Training Loss')\n",
    "plt.legend()"
   ]
  },
  {
   "cell_type": "code",
   "execution_count": null,
   "metadata": {},
   "outputs": [],
   "source": []
  }
 ],
 "metadata": {
  "kernelspec": {
   "display_name": "Python 3",
   "language": "python",
   "name": "python3"
  },
  "language_info": {
   "codemirror_mode": {
    "name": "ipython",
    "version": 3
   },
   "file_extension": ".py",
   "mimetype": "text/x-python",
   "name": "python",
   "nbconvert_exporter": "python",
   "pygments_lexer": "ipython3",
   "version": "3.8.6"
  }
 },
 "nbformat": 4,
 "nbformat_minor": 4
}
