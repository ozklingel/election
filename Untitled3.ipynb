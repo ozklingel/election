{
 "cells": [
  {
   "cell_type": "code",
   "execution_count": null,
   "metadata": {},
   "outputs": [],
   "source": [
    "import numpy as np\n",
    "import h5py\n",
    "\n",
    "from keras.models import Sequential\n",
    "from keras.layers import Conv2D, Dense, Flatten, Dropout, MaxPool2D\n",
    "import matplotlib.pyplot as plt\n",
    "from sklearn.metrics import confusion_matrix\n",
    "\n",
    "import seaborn as sns\n",
    "from IPython.display import SVG\n",
    "from keras.utils.vis_utils import model_to_dot\n",
    "from keras.utils import plot_model"
   ]
  },
  {
   "cell_type": "code",
   "execution_count": 11,
   "metadata": {},
   "outputs": [
    {
     "name": "stderr",
     "output_type": "stream",
     "text": [
      "<ipython-input-11-517aaca3db83>:6: H5pyDeprecationWarning: The default file mode will change to 'r' (read-only) in h5py 3.0. To suppress this warning, pass the mode you need to h5py.File(), or set the global default h5.get_config().default_file_mode, or set the environment variable H5PY_DEFAULT_READONLY=1. Available modes are: 'r', 'r+', 'w', 'w-'/'x', 'a'. See the docs for details.\n",
      "  f = h5py.File(new_filepath)\n",
      "<ipython-input-11-517aaca3db83>:9: DeprecationWarning: The binary mode of fromstring is deprecated, as it behaves surprisingly on unicode inputs. Use frombuffer instead\n",
      "  dset[0] = np.fromstring(binary_data, dtype='uint8')\n"
     ]
    }
   ],
   "source": [
    "def convert_file(input_dir, filename, output_dir):\n",
    "    filepath = input_dir + '/' + filename\n",
    "    fin = open(filepath, 'rb')\n",
    "    binary_data = fin.read()\n",
    "    new_filepath = output_dir + '/' + filename[:-4] + '.hdf5'\n",
    "    f = h5py.File(new_filepath)\n",
    "    dt = h5py.special_dtype(vlen=np.dtype('uint8'))\n",
    "    dset = f.create_dataset('binary_data', (100, ), dtype=dt)\n",
    "    dset[0] = np.fromstring(binary_data, dtype='uint8')\n",
    "convert_file('C:/Users/97254/Desktop',\"חתימה.png\", 'C:/Users/97254/Desktop')\n"
   ]
  },
  {
   "cell_type": "code",
   "execution_count": 12,
   "metadata": {},
   "outputs": [],
   "source": [
    "temp = h5py.File('C:/Users/97254/Desktop/חתימה.hdf5', \"r\")\n"
   ]
  },
  {
   "cell_type": "code",
   "execution_count": null,
   "metadata": {},
   "outputs": [],
   "source": []
  },
  {
   "cell_type": "code",
   "execution_count": 2,
   "metadata": {},
   "outputs": [
    {
     "name": "stdout",
     "output_type": "stream",
     "text": [
      "(600, 64, 64, 3)\n",
      "(600,)\n",
      "(1, 600)\n",
      "(1, 150)\n"
     ]
    }
   ],
   "source": [
    "trainFile = h5py.File('C:/Users/97254/Downloads/train_happy.h5', \"r\")\n",
    "testFile = h5py.File('C:/Users/97254/Downloads/test_happy.h5', \"r\")\n",
    "\n",
    "\n",
    "\n",
    "train_x = np.array(trainFile['train_set_x'][:])\n",
    "train_y = np.array(trainFile['train_set_y'][:])\n",
    "\n",
    "test_x = np.array(testFile['test_set_x'][:])\n",
    "test_y = np.array(testFile['test_set_y'][:])\n",
    "print(train_x.shape)\n",
    "print(train_y.shape)\n",
    "\n",
    "\n",
    "\n",
    "train_y = train_y.reshape((1, train_y.shape[0]))\n",
    "test_y = test_y.reshape((1, test_y.shape[0]))\n",
    "\n",
    "print(train_y.shape)\n",
    "print(test_y.shape)"
   ]
  },
  {
   "cell_type": "code",
   "execution_count": 3,
   "metadata": {},
   "outputs": [
    {
     "name": "stdout",
     "output_type": "stream",
     "text": [
      "(600, 1)\n",
      "(150, 1)\n"
     ]
    }
   ],
   "source": [
    "# plt.imshow(train_x[0])\n",
    "\n",
    "\n",
    "\n",
    "X_train = train_x / 255.0\n",
    "X_test = test_x / 255.0\n",
    "\n",
    "y_train = train_y.T\n",
    "y_test = test_y.T\n",
    "\n",
    "print(y_train.shape)\n",
    "print(y_test.shape)"
   ]
  },
  {
   "cell_type": "code",
   "execution_count": 23,
   "metadata": {},
   "outputs": [
    {
     "name": "stdout",
     "output_type": "stream",
     "text": [
      "Model: \"sequential_4\"\n",
      "_________________________________________________________________\n",
      "Layer (type)                 Output Shape              Param #   \n",
      "=================================================================\n",
      "Conv2D (Conv2D)              (None, 32, 32, 1)         4         \n",
      "_________________________________________________________________\n",
      "conv2d_6 (Conv2D)            (None, 28, 28, 6)         156       \n",
      "_________________________________________________________________\n",
      "average_pooling2d (AveragePo (None, 14, 14, 6)         0         \n",
      "_________________________________________________________________\n",
      "conv2d_7 (Conv2D)            (None, 10, 10, 16)        2416      \n",
      "_________________________________________________________________\n",
      "average_pooling2d_1 (Average (None, 5, 5, 16)          0         \n",
      "_________________________________________________________________\n",
      "flatten_2 (Flatten)          (None, 400)               0         \n",
      "_________________________________________________________________\n",
      "dense_4 (Dense)              (None, 120)               48120     \n",
      "_________________________________________________________________\n",
      "dense_5 (Dense)              (None, 84)                10164     \n",
      "_________________________________________________________________\n",
      "dense_6 (Dense)              (None, 1)                 85        \n",
      "=================================================================\n",
      "Total params: 60,945\n",
      "Trainable params: 60,945\n",
      "Non-trainable params: 0\n",
      "_________________________________________________________________\n"
     ]
    }
   ],
   "source": [
    "import tensorflow as tf\n",
    "from tensorflow import keras\n",
    "from tensorflow.keras import layers\n",
    "model = keras.Sequential(\n",
    "    [\n",
    "        keras.Input(shape=(64, 64, 3)),\n",
    "        layers.Conv2D(filters=1, kernel_size=(1,1), strides=(2,2), name='Conv2D', input_shape=(64,64,3)), # For converting image to 32,32,1\n",
    "        layers.Conv2D(filters=6, kernel_size=(5, 5), activation='relu'),\n",
    "        layers.AveragePooling2D(),\n",
    "\n",
    "        layers.Conv2D(filters=16, kernel_size=(5, 5), activation='relu'),\n",
    "        layers.AveragePooling2D(),\n",
    "\n",
    "        layers.Flatten(),\n",
    "\n",
    "        layers.Dense(units=120, activation='relu'),\n",
    "\n",
    "        layers.Dense(units=84, activation='relu'),\n",
    "\n",
    "        layers.Dense(units=1, activation = 'sigmoid')\n",
    "    ]\n",
    ")\n",
    "model.summary()"
   ]
  },
  {
   "cell_type": "code",
   "execution_count": 25,
   "metadata": {},
   "outputs": [
    {
     "name": "stdout",
     "output_type": "stream",
     "text": [
      "Epoch 1/30\n",
      "20/20 - 0s - loss: 0.1030 - accuracy: 0.9550\n",
      "Epoch 2/30\n",
      "20/20 - 0s - loss: 0.0895 - accuracy: 0.9717\n",
      "Epoch 3/30\n",
      "20/20 - 0s - loss: 0.0695 - accuracy: 0.9783\n",
      "Epoch 4/30\n",
      "20/20 - 0s - loss: 0.0650 - accuracy: 0.9750\n",
      "Epoch 5/30\n",
      "20/20 - 0s - loss: 0.0535 - accuracy: 0.9833\n",
      "Epoch 6/30\n",
      "20/20 - 0s - loss: 0.0590 - accuracy: 0.9817\n",
      "Epoch 7/30\n",
      "20/20 - 0s - loss: 0.0596 - accuracy: 0.9783\n",
      "Epoch 8/30\n",
      "20/20 - 0s - loss: 0.0469 - accuracy: 0.9833\n",
      "Epoch 9/30\n",
      "20/20 - 0s - loss: 0.0389 - accuracy: 0.9833\n",
      "Epoch 10/30\n",
      "20/20 - 0s - loss: 0.0667 - accuracy: 0.9667\n",
      "Epoch 11/30\n",
      "20/20 - 0s - loss: 0.0947 - accuracy: 0.9633\n",
      "Epoch 12/30\n",
      "20/20 - 0s - loss: 0.0666 - accuracy: 0.9683\n",
      "Epoch 13/30\n",
      "20/20 - 0s - loss: 0.0440 - accuracy: 0.9883\n",
      "Epoch 14/30\n",
      "20/20 - 0s - loss: 0.0344 - accuracy: 0.9883\n",
      "Epoch 15/30\n",
      "20/20 - 0s - loss: 0.0296 - accuracy: 0.9917\n",
      "Epoch 16/30\n",
      "20/20 - 0s - loss: 0.0508 - accuracy: 0.9767\n",
      "Epoch 17/30\n",
      "20/20 - 0s - loss: 0.0407 - accuracy: 0.9850\n",
      "Epoch 18/30\n",
      "20/20 - 0s - loss: 0.0244 - accuracy: 0.9917\n",
      "Epoch 19/30\n",
      "20/20 - 0s - loss: 0.0372 - accuracy: 0.9833\n",
      "Epoch 20/30\n",
      "20/20 - 0s - loss: 0.0318 - accuracy: 0.9883\n",
      "Epoch 21/30\n",
      "20/20 - 0s - loss: 0.0272 - accuracy: 0.9967\n",
      "Epoch 22/30\n",
      "20/20 - 0s - loss: 0.0237 - accuracy: 0.9950\n",
      "Epoch 23/30\n",
      "20/20 - 0s - loss: 0.0270 - accuracy: 0.9933\n",
      "Epoch 24/30\n",
      "20/20 - 0s - loss: 0.0403 - accuracy: 0.9883\n",
      "Epoch 25/30\n",
      "20/20 - 0s - loss: 0.0507 - accuracy: 0.9833\n",
      "Epoch 26/30\n",
      "20/20 - 0s - loss: 0.0623 - accuracy: 0.9783\n",
      "Epoch 27/30\n",
      "20/20 - 0s - loss: 0.0558 - accuracy: 0.9850\n",
      "Epoch 28/30\n",
      "20/20 - 0s - loss: 0.0404 - accuracy: 0.9883\n",
      "Epoch 29/30\n",
      "20/20 - 0s - loss: 0.0233 - accuracy: 0.9950\n",
      "Epoch 30/30\n",
      "20/20 - 0s - loss: 0.0248 - accuracy: 0.9917\n",
      "5/5 [==============================] - 0s 5ms/step - loss: 0.1748 - accuracy: 0.9467\n",
      "test loss: 0.17476262152194977\n",
      "test accuracy: 0.9466666579246521\n",
      "dict_keys(['loss', 'accuracy'])\n"
     ]
    }
   ],
   "source": [
    "model.compile(optimizer='Adam', loss='binary_crossentropy', metrics=[\"accuracy\"])\n",
    "\n",
    "\n",
    "\n",
    "epochs = 30\n",
    "batch_size = 30\n",
    "\n",
    "# from ann_visualizer.visualize import ann_viz\n",
    "#\n",
    "# ann_viz(model,view=True ,title=\"My first neural network\")\n",
    "\n",
    "history = model.fit(x=X_train, y=y_train, epochs=epochs, verbose=2,batch_size=batch_size)\n",
    "\n",
    "\n",
    "test_score = model.evaluate(X_test, y_test, verbose=1)\n",
    "\n",
    "Y_pred = model.predict_classes(X_test)\n",
    "\n",
    "print('test loss:', test_score[0])\n",
    "print('test accuracy:', test_score[1])\n",
    "\n",
    "print(history.history.keys())"
   ]
  },
  {
   "cell_type": "code",
   "execution_count": 15,
   "metadata": {},
   "outputs": [
    {
     "data": {
      "image/png": "[encoded data removed]",
      "text/plain": [
       "<Figure size 432x288 with 1 Axes>"
      ]
     },
     "metadata": {
      "needs_background": "light"
     },
     "output_type": "display_data"
    },
    {
     "data": {
      "image/png": "[encoded data removed]",
      "text/plain": [
       "<Figure size 432x288 with 1 Axes>"
      ]
     },
     "metadata": {
      "needs_background": "light"
     },
     "output_type": "display_data"
    }
   ],
   "source": [
    "training_accuracy = history.history['accuracy']\n",
    "training_loss = history.history['loss']\n",
    "\n",
    "E = range(len(training_accuracy))\n",
    "plt.plot(E, training_accuracy, color='red', label='Training accuracy')\n",
    "plt.title('epochs vs Training accuracy')\n",
    "plt.legend()\n",
    "\n",
    "plt.figure()\n",
    "plt.plot(E, training_loss, color='red', label='Training Loss')\n",
    "plt.title('epochs vs Training Loss')\n",
    "plt.legend()\n",
    "plt.show()"
   ]
  },
  {
   "cell_type": "code",
   "execution_count": 7,
   "metadata": {},
   "outputs": [
    {
     "data": {
      "image/png": "[encoded data removed]",
      "text/plain": [
       "<Figure size 432x288 with 2 Axes>"
      ]
     },
     "metadata": {
      "needs_background": "light"
     },
     "output_type": "display_data"
    }
   ],
   "source": [
    "cm = confusion_matrix(y_test,Y_pred)\n",
    "sns.heatmap(cm,annot=True)\n",
    "plt.show()"
   ]
  },
  {
   "cell_type": "code",
   "execution_count": 8,
   "metadata": {},
   "outputs": [
    {
     "name": "stdout",
     "output_type": "stream",
     "text": [
      "('Failed to import pydot. You must `pip install pydot` and install graphviz (https://graphviz.gitlab.io/download/), ', 'for `pydotprint` to work.')\n",
      "('Failed to import pydot. You must `pip install pydot` and install graphviz (https://graphviz.gitlab.io/download/), ', 'for `pydotprint` to work.')\n"
     ]
    },
    {
     "ename": "AttributeError",
     "evalue": "'NoneType' object has no attribute 'create'",
     "output_type": "error",
     "traceback": [
      "\u001b[1;31m---------------------------------------------------------------------------\u001b[0m",
      "\u001b[1;31mAttributeError\u001b[0m                            Traceback (most recent call last)",
      "\u001b[1;32m<ipython-input-8-2e54d475720d>\u001b[0m in \u001b[0;36m<module>\u001b[1;34m\u001b[0m\n\u001b[0;32m      1\u001b[0m \u001b[0mplot_model\u001b[0m\u001b[1;33m(\u001b[0m\u001b[0mmodel\u001b[0m\u001b[1;33m,\u001b[0m \u001b[0mto_file\u001b[0m\u001b[1;33m=\u001b[0m\u001b[1;34m'HappyModel.png'\u001b[0m\u001b[1;33m)\u001b[0m\u001b[1;33m\u001b[0m\u001b[1;33m\u001b[0m\u001b[0m\n\u001b[1;32m----> 2\u001b[1;33m \u001b[0mSVG\u001b[0m\u001b[1;33m(\u001b[0m\u001b[0mmodel_to_dot\u001b[0m\u001b[1;33m(\u001b[0m\u001b[0mmodel\u001b[0m\u001b[1;33m)\u001b[0m\u001b[1;33m.\u001b[0m\u001b[0mcreate\u001b[0m\u001b[1;33m(\u001b[0m\u001b[0mprog\u001b[0m\u001b[1;33m=\u001b[0m\u001b[1;34m'dot'\u001b[0m\u001b[1;33m,\u001b[0m \u001b[0mformat\u001b[0m\u001b[1;33m=\u001b[0m\u001b[1;34m'svg'\u001b[0m\u001b[1;33m)\u001b[0m\u001b[1;33m)\u001b[0m\u001b[1;33m\u001b[0m\u001b[1;33m\u001b[0m\u001b[0m\n\u001b[0m",
      "\u001b[1;31mAttributeError\u001b[0m: 'NoneType' object has no attribute 'create'"
     ]
    }
   ],
   "source": [
    "plot_model(model, to_file='HappyModel.png')\n",
    "SVG(model_to_dot(model).create(prog='dot', format='svg'))"
   ]
  },
  {
   "cell_type": "code",
   "execution_count": null,
   "metadata": {},
   "outputs": [],
   "source": []
  }
 ],
 "metadata": {
  "kernelspec": {
   "display_name": "Python 3",
   "language": "python",
   "name": "python3"
  },
  "language_info": {
   "codemirror_mode": {
    "name": "ipython",
    "version": 3
   },
   "file_extension": ".py",
   "mimetype": "text/x-python",
   "name": "python",
   "nbconvert_exporter": "python",
   "pygments_lexer": "ipython3",
   "version": "3.8.6"
  }
 },
 "nbformat": 4,
 "nbformat_minor": 4
}
