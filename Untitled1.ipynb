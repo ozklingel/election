{
 "cells": [
  {
   "cell_type": "code",
   "execution_count": 6,
   "metadata": {},
   "outputs": [],
   "source": [
    "\n",
    "import numpy as np # linear algebra\n",
    "import pandas as pd # data processing, CSV file I/O (e.g. pd.read_csv)\n",
    "\n",
    "# Input data files are available in the \"../input/\" directory.\n",
    "# For example, running this (by clicking run or pressing Shift+Enter) will list the files in the input directory\n",
    "import h5py\n",
    "\n",
    "from keras.models import Sequential\n",
    "from keras.layers import Conv2D, Dense, Flatten, Dropout, MaxPool2D\n",
    "from keras.optimizers import Adam, RMSprop\n",
    "from keras.initializers import RandomNormal\n",
    "import matplotlib.pyplot as plt\n",
    "#import seaborn as sns\n",
    "import os\n",
    "#print(os.listdir(\"../input\"))\n",
    "trainFile=h5py.File('C:/Users/97254/Downloads/train_happy.h5', \"r\")\n",
    "#trainFile = h5py.File('../input/train_happy.h5')\n",
    "testFile=h5py.File('C:/Users/97254/Downloads/test_happy.h5', \"r\")\n",
    "#testFile = h5py.File('../test_happy.h5')"
   ]
  },
  {
   "cell_type": "code",
   "execution_count": 7,
   "metadata": {},
   "outputs": [
    {
     "name": "stdout",
     "output_type": "stream",
     "text": [
      "(600, 64, 64, 3)\n",
      "(600,)\n"
     ]
    }
   ],
   "source": [
    "train_x = np.array(trainFile['train_set_x'][:])\n",
    "train_y = np.array(trainFile['train_set_y'][:])\n",
    "\n",
    "test_x = np.array(testFile['test_set_x'][:])\n",
    "test_y = np.array(testFile['test_set_y'][:])\n",
    "print(train_x.shape)\n",
    "print(train_y.shape)"
   ]
  },
  {
   "cell_type": "code",
   "execution_count": 8,
   "metadata": {},
   "outputs": [
    {
     "name": "stdout",
     "output_type": "stream",
     "text": [
      "(1, 600)\n",
      "(1, 150)\n"
     ]
    }
   ],
   "source": [
    "train_y = train_y.reshape((1, train_y.shape[0]))\n",
    "test_y = test_y.reshape((1, test_y.shape[0]))\n",
    "\n",
    "print(train_y.shape)\n",
    "print(test_y.shape)"
   ]
  },
  {
   "cell_type": "code",
   "execution_count": 9,
   "metadata": {},
   "outputs": [
    {
     "data": {
      "text/plain": [
       "<matplotlib.image.AxesImage at 0x15357f6d1c0>"
      ]
     },
     "execution_count": 9,
     "metadata": {},
     "output_type": "execute_result"
    },
    {
     "data": {
      "image/png": "[encoded data removed]",
      "text/plain": [
       "<Figure size 432x288 with 1 Axes>"
      ]
     },
     "metadata": {
      "needs_background": "light"
     },
     "output_type": "display_data"
    }
   ],
   "source": [
    "plt.imshow(train_x[0])"
   ]
  },
  {
   "cell_type": "code",
   "execution_count": 12,
   "metadata": {},
   "outputs": [],
   "source": [
    "X_train = train_x / 255.0\n",
    "X_test = test_x / 255.0\n",
    "\n",
    "y_train = train_y.T\n",
    "y_test = test_y.T"
   ]
  },
  {
   "cell_type": "code",
   "execution_count": 13,
   "metadata": {},
   "outputs": [],
   "source": [
    "model = Sequential()\n",
    "\n",
    "model.add(Conv2D(filters=32, kernel_size=(3,3), activation='relu', padding='Same', input_shape=(64,64,3)))\n",
    "model.add(Conv2D(filters=64, kernel_size=(3,3), activation='relu', padding='Same'))\n",
    "\n",
    "model.add(MaxPool2D(pool_size=(2,2)))\n",
    "\n",
    "model.add(Conv2D(filters=128, kernel_size=(3,3), activation='relu', padding='Same'))\n",
    "\n",
    "model.add(MaxPool2D(pool_size=(2,2)))\n",
    "\n",
    "model.add(Flatten())\n",
    "\n",
    "model.add(Dense(128, activation='relu'))\n",
    "model.add(Dropout(0.2))\n",
    "model.add(Dense(1, activation='sigmoid'))\n",
    "model.compile(optimizer='rmsprop', loss='binary_crossentropy', metrics=['accuracy'])"
   ]
  },
  {
   "cell_type": "code",
   "execution_count": 14,
   "metadata": {},
   "outputs": [
    {
     "name": "stdout",
     "output_type": "stream",
     "text": [
      "Epoch 1/10\n",
      "20/20 - 5s - loss: 1.0101 - accuracy: 0.5533\n",
      "Epoch 2/10\n",
      "20/20 - 6s - loss: 0.6296 - accuracy: 0.6583\n",
      "Epoch 3/10\n",
      "20/20 - 5s - loss: 0.5667 - accuracy: 0.7350\n",
      "Epoch 4/10\n",
      "20/20 - 5s - loss: 0.4000 - accuracy: 0.8283\n",
      "Epoch 5/10\n",
      "20/20 - 5s - loss: 0.2627 - accuracy: 0.8867\n",
      "Epoch 6/10\n",
      "20/20 - 6s - loss: 0.2846 - accuracy: 0.8883\n",
      "Epoch 7/10\n",
      "20/20 - 6s - loss: 0.1723 - accuracy: 0.9333\n",
      "Epoch 8/10\n",
      "20/20 - 6s - loss: 0.1793 - accuracy: 0.9317\n",
      "Epoch 9/10\n",
      "20/20 - 6s - loss: 0.1076 - accuracy: 0.9650\n",
      "Epoch 10/10\n",
      "20/20 - 6s - loss: 0.1411 - accuracy: 0.9450\n"
     ]
    }
   ],
   "source": [
    "epochs = 10\n",
    "batch_size = 30\n",
    "history = model.fit(x=X_train, y=y_train, epochs=epochs, verbose=2,batch_size=batch_size)"
   ]
  },
  {
   "cell_type": "code",
   "execution_count": 15,
   "metadata": {},
   "outputs": [
    {
     "name": "stdout",
     "output_type": "stream",
     "text": [
      "5/5 [==============================] - 0s 45ms/step - loss: 0.1865 - accuracy: 0.9333\n"
     ]
    }
   ],
   "source": [
    "test_score = model.evaluate(X_test, y_test, verbose=1)"
   ]
  },
  {
   "cell_type": "code",
   "execution_count": 16,
   "metadata": {},
   "outputs": [
    {
     "name": "stdout",
     "output_type": "stream",
     "text": [
      "test loss: 0.1864626109600067\n",
      "test accuracy: 0.9333333373069763\n"
     ]
    }
   ],
   "source": [
    "print('test loss:', test_score[0])\n",
    "print('test accuracy:', test_score[1])"
   ]
  },
  {
   "cell_type": "code",
   "execution_count": 20,
   "metadata": {},
   "outputs": [
    {
     "name": "stdout",
     "output_type": "stream",
     "text": [
      "dict_keys(['loss', 'accuracy'])\n"
     ]
    }
   ],
   "source": [
    "print(history.history.keys())"
   ]
  },
  {
   "cell_type": "code",
   "execution_count": 21,
   "metadata": {},
   "outputs": [
    {
     "data": {
      "text/plain": [
       "<matplotlib.legend.Legend at 0x15362150ac0>"
      ]
     },
     "execution_count": 21,
     "metadata": {},
     "output_type": "execute_result"
    },
    {
     "data": {
      "image/png": "[encoded data removed]",
      "text/plain": [
       "<Figure size 432x288 with 1 Axes>"
      ]
     },
     "metadata": {
      "needs_background": "light"
     },
     "output_type": "display_data"
    },
    {
     "data": {
      "image/png": "[encoded data removed]",
      "text/plain": [
       "<Figure size 432x288 with 1 Axes>"
      ]
     },
     "metadata": {
      "needs_background": "light"
     },
     "output_type": "display_data"
    }
   ],
   "source": [
    "training_accuracy = history.history['accuracy']\n",
    "training_loss = history.history['loss']\n",
    "\n",
    "E = range(len(training_accuracy))\n",
    "plt.plot(E, training_accuracy, color='red', label='Training accuracy')\n",
    "plt.title('epochs vs Training accuracy')\n",
    "plt.legend()\n",
    "\n",
    "plt.figure()\n",
    "plt.plot(E, training_loss, color='red', label='Training Loss')\n",
    "plt.title('epochs vs Training Loss')\n",
    "plt.legend()"
   ]
  },
  {
   "cell_type": "code",
   "execution_count": null,
   "metadata": {},
   "outputs": [],
   "source": []
  }
 ],
 "metadata": {
  "kernelspec": {
   "display_name": "Python 3",
   "language": "python",
   "name": "python3"
  },
  "language_info": {
   "codemirror_mode": {
    "name": "ipython",
    "version": 3
   },
   "file_extension": ".py",
   "mimetype": "text/x-python",
   "name": "python",
   "nbconvert_exporter": "python",
   "pygments_lexer": "ipython3",
   "version": "3.8.6"
  }
 },
 "nbformat": 4,
 "nbformat_minor": 4
}
